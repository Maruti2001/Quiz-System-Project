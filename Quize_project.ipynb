{
 "cells": [
  {
   "cell_type": "code",
   "execution_count": 2,
   "id": "3daa377a-05a7-40b7-95e5-7e811e7b9aa9",
   "metadata": {},
   "outputs": [
    {
     "name": "stdout",
     "output_type": "stream",
     "text": [
      "Welcome to the Quiz System\n"
     ]
    },
    {
     "name": "stdin",
     "output_type": "stream",
     "text": [
      "1. Register\n",
      "2. Login\n",
      "3. Exit\n",
      "Select an option:  1\n",
      "Enter username:  maruti\n",
      "Enter password:  1234\n",
      "Enter role (user/admin):  admin\n"
     ]
    },
    {
     "name": "stdout",
     "output_type": "stream",
     "text": [
      "User registered successfully.\n"
     ]
    },
    {
     "name": "stdin",
     "output_type": "stream",
     "text": [
      "1. Register\n",
      "2. Login\n",
      "3. Exit\n",
      "Select an option:  2\n",
      "Enter username:  maruti\n",
      "Enter password:  1234\n"
     ]
    },
    {
     "name": "stdout",
     "output_type": "stream",
     "text": [
      "Login successful. Role: admin\n",
      "Admin login successful.\n"
     ]
    },
    {
     "name": "stdin",
     "output_type": "stream",
     "text": [
      "1. Create Quiz\n",
      "2. Log Out\n",
      "Select an option:  1\n",
      "Enter quiz title:  python quiz\n"
     ]
    },
    {
     "name": "stdout",
     "output_type": "stream",
     "text": [
      "Quiz created successfully.\n"
     ]
    },
    {
     "name": "stdin",
     "output_type": "stream",
     "text": [
      "Enter question text (or 'quit' to finish):  diffrnce betwin list and tuple\n",
      "Enter correct answer (A, B, C, or D):  c\n",
      "Enter option A:  mutable mutable\n",
      "Enter option B:  immutable mutable\n",
      "Enter option C:  mutable immutable\n",
      "Enter option D:  immutable immutable\n",
      "Enter question text (or 'quit' to finish):  quit\n",
      "1. Create Quiz\n",
      "2. Log Out\n",
      "Select an option:  2\n",
      "1. Register\n",
      "2. Login\n",
      "3. Exit\n",
      "Select an option:  1\n",
      "Enter username:  rushi\n",
      "Enter password:  123\n",
      "Enter role (user/admin):  user\n"
     ]
    },
    {
     "name": "stdout",
     "output_type": "stream",
     "text": [
      "User registered successfully.\n"
     ]
    },
    {
     "name": "stdin",
     "output_type": "stream",
     "text": [
      "1. Register\n",
      "2. Login\n",
      "3. Exit\n",
      "Select an option:  rushi\n"
     ]
    },
    {
     "name": "stdout",
     "output_type": "stream",
     "text": [
      "Invalid option.\n"
     ]
    },
    {
     "name": "stdin",
     "output_type": "stream",
     "text": [
      "1. Register\n",
      "2. Login\n",
      "3. Exit\n",
      "Select an option:  2\n",
      "Enter username:  rushi\n",
      "Enter password:  123\n"
     ]
    },
    {
     "name": "stdout",
     "output_type": "stream",
     "text": [
      "Login successful. Role: user\n",
      "User login successful.\n"
     ]
    },
    {
     "name": "stdin",
     "output_type": "stream",
     "text": [
      "1. Take Quiz\n",
      "2. View Results\n",
      "3. Log Out\n",
      "Select an option:  1\n"
     ]
    },
    {
     "name": "stdout",
     "output_type": "stream",
     "text": [
      "1. python quiz\n"
     ]
    },
    {
     "name": "stdin",
     "output_type": "stream",
     "text": [
      "Select a quiz by ID:  1\n"
     ]
    },
    {
     "name": "stdout",
     "output_type": "stream",
     "text": [
      "diffrnce betwin list and tuple\n",
      "A. mutable mutable\n",
      "B. immutable mutable\n",
      "C. mutable immutable\n",
      "D. immutable immutable\n"
     ]
    },
    {
     "name": "stdin",
     "output_type": "stream",
     "text": [
      "Your answer (A, B, C, or D):  c\n"
     ]
    },
    {
     "name": "stdout",
     "output_type": "stream",
     "text": [
      "Quiz completed. Your score: 1/1\n"
     ]
    },
    {
     "name": "stdin",
     "output_type": "stream",
     "text": [
      "1. Take Quiz\n",
      "2. View Results\n",
      "3. Log Out\n",
      "Select an option:  2\n"
     ]
    },
    {
     "name": "stdout",
     "output_type": "stream",
     "text": [
      "Quiz: python quiz, Score: 1, Date Taken: 2024-11-15 12:38:24\n"
     ]
    },
    {
     "name": "stdin",
     "output_type": "stream",
     "text": [
      "1. Take Quiz\n",
      "2. View Results\n",
      "3. Log Out\n",
      "Select an option:  3\n",
      "1. Register\n",
      "2. Login\n",
      "3. Exit\n",
      "Select an option:  3\n"
     ]
    },
    {
     "name": "stdout",
     "output_type": "stream",
     "text": [
      "Exiting the Quiz System.\n"
     ]
    }
   ],
   "source": [
    "import mysql.connector\n",
    "\n",
    "db = mysql.connector.connect(\n",
    "    host=\"localhost\",\n",
    "    user=\"root\",   \n",
    "    password=\"\",   \n",
    "    database=\"quize_system\"\n",
    ")\n",
    "\n",
    "cursor = db.cursor()\n",
    "\n",
    "\n",
    "def register_user():\n",
    "    username = input(\"Enter username: \")\n",
    "    password = input(\"Enter password: \")\n",
    "    role = input(\"Enter role (user/admin): \").lower()\n",
    "    cursor.execute(\"INSERT INTO users (username, password, role) VALUES (%s, %s, %s)\", (username, password, role))\n",
    "    db.commit()\n",
    "    print(\"User registered successfully.\")\n",
    "\n",
    "\n",
    "def login_user():\n",
    "    username = input(\"Enter username: \")\n",
    "    password = input(\"Enter password: \")\n",
    "    cursor.execute(\"SELECT user_id, role FROM users WHERE username = %s AND password = %s\", (username, password))\n",
    "    user = cursor.fetchone()\n",
    "    \n",
    "    if user:\n",
    "        print(f\"Login successful. Role: {user[1]}\")\n",
    "        return user[0], user[1]  \n",
    "    else:\n",
    "        print(\"Invalid credentials.\")\n",
    "        return None, None\n",
    "\n",
    "\n",
    "def admin_create_quiz():\n",
    "    title = input(\"Enter quiz title: \")\n",
    "    cursor.execute(\"INSERT INTO quizzes (title) VALUES (%s)\", (title,))\n",
    "    db.commit()\n",
    "    quiz_id = cursor.lastrowid\n",
    "    print(\"Quiz created successfully.\")\n",
    "    add_questions_to_quiz(quiz_id)\n",
    "\n",
    "def add_questions_to_quiz(quiz_id):\n",
    "    while True:\n",
    "        question_text = input(\"Enter question text (or 'quit' to finish): \")\n",
    "        if question_text.lower() == 'quit':\n",
    "            break\n",
    "        correct_answer = input(\"Enter correct answer (A, B, C, or D): \").upper()\n",
    "        cursor.execute(\"INSERT INTO questions (quiz_id, question_text, correct_answer) VALUES (%s, %s, %s)\",\n",
    "                       (quiz_id, question_text, correct_answer))\n",
    "        db.commit()\n",
    "        question_id = cursor.lastrowid\n",
    "        for option_letter in [\"A\", \"B\", \"C\", \"D\"]:\n",
    "            option_text = input(f\"Enter option {option_letter}: \")\n",
    "            cursor.execute(\"INSERT INTO options (question_id, option_text, option_letter) VALUES (%s, %s, %s)\",\n",
    "                           (question_id, option_text, option_letter))\n",
    "            db.commit()\n",
    "\n",
    "\n",
    "def take_quiz(user_id):\n",
    "    cursor.execute(\"SELECT quiz_id, title FROM quizzes\")\n",
    "    quizzes = cursor.fetchall()\n",
    "    for quiz in quizzes:\n",
    "        print(f\"{quiz[0]}. {quiz[1]}\")\n",
    "    quiz_id = int(input(\"Select a quiz by ID: \"))\n",
    "\n",
    "    cursor.execute(\"SELECT question_id, question_text FROM questions WHERE quiz_id = %s\", (quiz_id,))\n",
    "    questions = cursor.fetchall()\n",
    "    score = 0\n",
    "\n",
    "    for question in questions:\n",
    "        question_id, question_text = question\n",
    "        print(question_text)\n",
    "        cursor.execute(\"SELECT option_letter, option_text FROM options WHERE question_id = %s\", (question_id,))\n",
    "        options = cursor.fetchall()\n",
    "        for option in options:\n",
    "            print(f\"{option[0]}. {option[1]}\")\n",
    "\n",
    "        user_answer = input(\"Your answer (A, B, C, or D): \").upper()\n",
    "        cursor.execute(\"SELECT correct_answer FROM questions WHERE question_id = %s\", (question_id,))\n",
    "        correct_answer = cursor.fetchone()[0]\n",
    "\n",
    "        if user_answer == correct_answer:\n",
    "            score += 1\n",
    "\n",
    "    cursor.execute(\"INSERT INTO results (user_id, quiz_id, score) VALUES (%s, %s, %s)\", (user_id, quiz_id, score))\n",
    "    db.commit()\n",
    "    print(f\"Quiz completed. Your score: {score}/{len(questions)}\")\n",
    "\n",
    "\n",
    "def view_results(user_id):\n",
    "    cursor.execute(\"\"\"\n",
    "        SELECT quizzes.title, results.score, results.date_taken\n",
    "        FROM results\n",
    "        JOIN quizzes ON results.quiz_id = quizzes.quiz_id\n",
    "        WHERE results.user_id = %s\n",
    "    \"\"\", (user_id,))\n",
    "    results = cursor.fetchall()\n",
    "    for result in results:\n",
    "        print(f\"Quiz: {result[0]}, Score: {result[1]}, Date Taken: {result[2]}\")\n",
    "\n",
    "def admin_menu():\n",
    "    while True:\n",
    "        admin_choice = input(\"1. Create Quiz\\n2. Log Out\\nSelect an option: \")\n",
    "        if admin_choice == '1':\n",
    "            admin_create_quiz()\n",
    "        elif admin_choice == '2':\n",
    "            break\n",
    "        else:\n",
    "            print(\"Invalid option.\")\n",
    "\n",
    "\n",
    "def user_menu(user_id):\n",
    "    while True:\n",
    "        user_choice = input(\"1. Take Quiz\\n2. View Results\\n3. Log Out\\nSelect an option: \")\n",
    "        if user_choice == '1':\n",
    "            take_quiz(user_id)\n",
    "        elif user_choice == '2':\n",
    "            view_results(user_id)\n",
    "        elif user_choice == '3':\n",
    "            break\n",
    "        else:\n",
    "            print(\"Invalid option.\")\n",
    "\n",
    "\n",
    "def main():\n",
    "    print(\"Welcome to the Quiz System\")\n",
    "    while True:\n",
    "        choice = input(\"1. Register\\n2. Login\\n3. Exit\\nSelect an option: \")\n",
    "        if choice == '1':\n",
    "            register_user()\n",
    "        elif choice == '2':\n",
    "            user_id, role = login_user()\n",
    "            if user_id:\n",
    "                if role == 'admin':\n",
    "                    print(\"Admin login successful.\")\n",
    "                    admin_menu()\n",
    "                else:\n",
    "                    print(\"User login successful.\")\n",
    "                    user_menu(user_id)\n",
    "        elif choice == '3':\n",
    "            print(\"Exiting the Quiz System.\")\n",
    "            break\n",
    "        else:\n",
    "            print(\"Invalid option.\")\n",
    "\n",
    "if __name__ == \"__main__\":\n",
    "    main()\n"
   ]
  },
  {
   "cell_type": "code",
   "execution_count": null,
   "id": "0651a7b6-c289-48c7-9878-af7d3fe5f254",
   "metadata": {},
   "outputs": [],
   "source": []
  }
 ],
 "metadata": {
  "kernelspec": {
   "display_name": "Python 3 (ipykernel)",
   "language": "python",
   "name": "python3"
  },
  "language_info": {
   "codemirror_mode": {
    "name": "ipython",
    "version": 3
   },
   "file_extension": ".py",
   "mimetype": "text/x-python",
   "name": "python",
   "nbconvert_exporter": "python",
   "pygments_lexer": "ipython3",
   "version": "3.13.0"
  }
 },
 "nbformat": 4,
 "nbformat_minor": 5
}
